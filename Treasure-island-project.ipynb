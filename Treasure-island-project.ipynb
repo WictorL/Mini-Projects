{
 "cells": [
  {
   "cell_type": "code",
   "execution_count": null,
   "id": "44a5f72e-bec5-43bd-84fe-df5c20efaa76",
   "metadata": {},
   "outputs": [],
   "source": [
    "print(\"Welcome to Treasure Island.\")\n",
    "print(\"Your mission is to find the treasure.\")\n",
    "choice1 = input('You\\'re at a crossroad, where do you want to go? '\n",
    "                'Type \"left\" or \"right\".\\n').lower()\n",
    "\n",
    "if choice1 == \"left\":\n",
    "    choice2 = input('You\\'ve come to a lake. '\n",
    "                    'There is an island in the middle of the lake. '\n",
    "                    'Type \"wait\" to wait for a boat. '\n",
    "                    'Type \"swim\" to swim across.\\n').lower()\n",
    "    if choice2 == \"wait\":\n",
    "        choice3 = input(\"You arrive at the island unharmed. \"\n",
    "                        \"There is house with 3 doors. One red, \"\n",
    "                        \"one yellow and one blue. \"\n",
    "                        \"Which colour do you choose?\\n\").lower()\n",
    "        if choice3 == \"red\":\n",
    "            print(\"It's a room full of fire. Game Over\")\n",
    "        elif choice3 == \"yellow\":\n",
    "            print(\"You found the treasure. You Win!\")\n",
    "        elif choice3 == \"blue\":\n",
    "            print(\"You enter a room of beasts. Game Over.\")\n",
    "        else:\n",
    "            print(\"You chose a door that doesn't exist. Game Over.\")\n",
    "    else:\n",
    "        print(\"You got attacked by an angry trout. Game Over.\")\n",
    "\n",
    "else:\n",
    "    print(\"You fell in to a hole. Game Over.\")\n"
   ]
  }
 ],
 "metadata": {
  "kernelspec": {
   "display_name": "Python [conda env:base] *",
   "language": "python",
   "name": "conda-base-py"
  },
  "language_info": {
   "codemirror_mode": {
    "name": "ipython",
    "version": 3
   },
   "file_extension": ".py",
   "mimetype": "text/x-python",
   "name": "python",
   "nbconvert_exporter": "python",
   "pygments_lexer": "ipython3",
   "version": "3.12.7"
  }
 },
 "nbformat": 4,
 "nbformat_minor": 5
}
