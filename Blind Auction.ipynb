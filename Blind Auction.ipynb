{
 "cells": [
  {
   "cell_type": "code",
   "execution_count": 1,
   "id": "ee7c677c-1a7f-43eb-8302-cb2ee426d097",
   "metadata": {},
   "outputs": [
    {
     "name": "stdin",
     "output_type": "stream",
     "text": [
      "What is your name?:  John\n",
      "What is your bid?: $ 10\n",
      "Are there any other bidders? Type 'yes or 'no'.\n",
      " yes\n"
     ]
    },
    {
     "name": "stdout",
     "output_type": "stream",
     "text": [
      "\n",
      "\n",
      "\n",
      "\n",
      "\n",
      "\n",
      "\n",
      "\n",
      "\n",
      "\n",
      "\n",
      "\n",
      "\n",
      "\n",
      "\n",
      "\n",
      "\n",
      "\n",
      "\n",
      "\n",
      "\n"
     ]
    },
    {
     "name": "stdin",
     "output_type": "stream",
     "text": [
      "What is your name?:  Steve\n",
      "What is your bid?: $ 20\n",
      "Are there any other bidders? Type 'yes or 'no'.\n",
      " no\n"
     ]
    },
    {
     "name": "stdout",
     "output_type": "stream",
     "text": [
      "The winner is Steve with a bid of $20\n"
     ]
    }
   ],
   "source": [
    "def find_highest_bidder(bidding_record):\n",
    "    highest_bid = 0\n",
    "    winner = \"\"\n",
    "    for bidder in bidding_record:\n",
    "        bid_amount = bidding_record[bidder]\n",
    "        if bid_amount > highest_bid:\n",
    "            highest_bid = bid_amount\n",
    "            winner = bidder\n",
    "    print(f\"The winner is {winner} with a bid of ${highest_bid}\")\n",
    "\n",
    "\n",
    "bids = {}\n",
    "continue_bidding = True\n",
    "while continue_bidding:\n",
    "    name = input(\"What is your name?: \")\n",
    "    price = int(input(\"What is your bid?: $\"))\n",
    "    bids[name] = price\n",
    "    should_continue = input(\"Are there any other bidders? Type 'yes or 'no'.\\n\")\n",
    "    if should_continue == \"no\":\n",
    "        continue_bidding = False\n",
    "        find_highest_bidder(bids)\n",
    "    elif should_continue == \"yes\":\n",
    "        print(\"\\n\" * 20)"
   ]
  },
  {
   "cell_type": "code",
   "execution_count": null,
   "id": "3b03f570-ebc0-42c6-b4c1-36feb8827674",
   "metadata": {},
   "outputs": [],
   "source": []
  }
 ],
 "metadata": {
  "kernelspec": {
   "display_name": "Python [conda env:base] *",
   "language": "python",
   "name": "conda-base-py"
  },
  "language_info": {
   "codemirror_mode": {
    "name": "ipython",
    "version": 3
   },
   "file_extension": ".py",
   "mimetype": "text/x-python",
   "name": "python",
   "nbconvert_exporter": "python",
   "pygments_lexer": "ipython3",
   "version": "3.12.7"
  }
 },
 "nbformat": 4,
 "nbformat_minor": 5
}
